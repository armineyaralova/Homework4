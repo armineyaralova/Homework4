{
 "cells": [
  {
   "cell_type": "code",
   "execution_count": 1,
   "metadata": {
    "collapsed": true
   },
   "outputs": [],
   "source": [
    "import json\n",
    "url = \"https://www.youtube.com/feed/trending\"\n",
    "import urllib2\n",
    "from lxml import html\n",
    "response = urllib2.urlopen(url)\n",
    "data = response.read()\n",
    "tree = html.document_fromstring(data)\n",
    "title = tree.cssselect('[class=\"yt-uix-tile-link yt-ui-ellipsis yt-ui-ellipsis-2 yt-uix-sessionlink      spf-link \"] ')\n",
    "length=tree.cssselect('[class=\"video-time\"]')\n",
    "user=tree.cssselect('[class=\"g-hovercard yt-uix-sessionlink       spf-link \"]')\n",
    "views = tree.cssselect('[class=\"yt-lockup-meta-info\"] ' )\n",
    "y=[]\n",
    "for i in views:\n",
    "    y.append(i.text_content())\n",
    "z=str(y)\n",
    "import re\n",
    "view = re.findall('\\S([0-9]+\\S*)\\s+views',z)\n",
    "homework=[]\n",
    "for i in range(len(title)):\n",
    "    homework.append({'Title' :title[i].get(\"title\"),\"URL\" : \"https://www.youtube.com\"+title[i].get('href'),'Duration':length[i].text_content(),\"Username\":user[i].text_content(),\"Views\": view[i]})\n",
    "with open('file_1.json', 'w') as l:\n",
    "    json.dump(homework, l, sort_keys = True, indent = 4)\n",
    "\n",
    "\n",
    "import unicodecsv as csv\n",
    "with open('file_1.csv', 'w') as m:\n",
    "\n",
    "    writer = csv.writer(m)\n",
    "    writer.writerow([\"Title\",\"URL\",\"Duration\",\"Username\",\"Views\"])\n",
    "    for a in homework:\n",
    "        writer.writerow([a['Title'],a['URL'],a['Duration'],a['Username'],a['Views']])"
   ]
  },
  {
   "cell_type": "code",
   "execution_count": null,
   "metadata": {
    "collapsed": true
   },
   "outputs": [],
   "source": []
  }
 ],
 "metadata": {
  "kernelspec": {
   "display_name": "Python 2",
   "language": "python",
   "name": "python2"
  },
  "language_info": {
   "codemirror_mode": {
    "name": "ipython",
    "version": 2
   },
   "file_extension": ".py",
   "mimetype": "text/x-python",
   "name": "python",
   "nbconvert_exporter": "python",
   "pygments_lexer": "ipython2",
   "version": "2.7.13"
  }
 },
 "nbformat": 4,
 "nbformat_minor": 2
}
