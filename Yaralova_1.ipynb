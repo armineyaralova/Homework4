{
 "cells": [
  {
   "cell_type": "code",
   "execution_count": 1,
   "metadata": {
    "collapsed": true
   },
   "outputs": [],
   "source": [
    "import json\n",
    "url=\"https://www.youtube.com/feed/trending\"\n",
    "import requests\n",
    "response = requests.get(url)\n",
    "from BeautifulSoup import *\n",
    "data= response.text\n",
    "soup=BeautifulSoup(data)\n",
    "tag=soup.findAll('a', attrs={'class':\"yt-uix-tile-link yt-ui-ellipsis yt-ui-ellipsis-2 yt-uix-sessionlink      spf-link \"})\n",
    "length = soup.findAll('span', attrs={'class': 'video-time'})\n",
    "user = soup.findAll('a', attrs={'class': 'g-hovercard yt-uix-sessionlink       spf-link '})\n",
    "views = soup.findAll(\"ul\", attrs={ 'class':\"yt-lockup-meta-info\", } ) \n",
    "y=str(views)\n",
    "import re\n",
    "no_tag = re.sub(r'<|>',\" \",y)\n",
    "view = re.findall('\\s*([0-9]+\\S*)\\s+views\\s+',no_tag)\n",
    "homework=[]\n",
    "for i in range(len(tag)):\n",
    "    homework.append({'Title' :tag[i].get(\"title\"),\"URL\" : \"https://www.youtube.com\"+tag[i].get('href'),'Duration':length[i].text,\"Username\":user[i].text,\"Views\": view[i]})\n",
    "with open('file.json', 'w') as x:\n",
    "    json.dump(homework, x, sort_keys = True, indent = 4)\n",
    "\n",
    "\n",
    "import unicodecsv as csv\n",
    "with open('file.csv', 'w') as z:\n",
    "\n",
    "    writer = csv.writer(z)\n",
    "    writer.writerow([\"Title\",\"URL\",\"Duration\",\"Username\",\"Views\"])\n",
    "    for a in homework:\n",
    "        writer.writerow([a['Title'],a['URL'],a['Duration'],a['Username'],a['Views']])\n"
   ]
  },
  {
   "cell_type": "code",
   "execution_count": null,
   "metadata": {
    "collapsed": true
   },
   "outputs": [],
   "source": []
  }
 ],
 "metadata": {
  "kernelspec": {
   "display_name": "Python 2",
   "language": "python",
   "name": "python2"
  },
  "language_info": {
   "codemirror_mode": {
    "name": "ipython",
    "version": 2
   },
   "file_extension": ".py",
   "mimetype": "text/x-python",
   "name": "python",
   "nbconvert_exporter": "python",
   "pygments_lexer": "ipython2",
   "version": "2.7.13"
  }
 },
 "nbformat": 4,
 "nbformat_minor": 2
}
